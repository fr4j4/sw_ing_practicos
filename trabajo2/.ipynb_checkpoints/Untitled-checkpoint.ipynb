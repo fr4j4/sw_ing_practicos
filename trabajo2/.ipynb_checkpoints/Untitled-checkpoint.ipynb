{
 "cells": [
  {
   "cell_type": "markdown",
   "metadata": {},
   "source": [
    "## Ecuación  diferencial inicial\n",
    "$$ \n",
    "EI*\\frac{d^4y}{dx^4} +k * y = w(x)\n",
    "$$\n",
    "## Dado el caso en que $w(x)/EI = k/EI = 1$ :\n",
    "### Dividiendo por $EI$:\n",
    "$$\n",
    "\\frac {EI}{EI}*\\frac{d^4y}{dx^4} +\\frac{k*y}{EI} = \\frac{w(x)}{EI} \n",
    "$$\n",
    "### Por lo tanto, nuestra ecuación inicial queda de la forma:\n",
    "### $$\n",
    "\\frac{d^4y}{dx^4} + y = 1\n",
    "$$"
   ]
  },
  {
   "cell_type": "code",
   "execution_count": null,
   "metadata": {},
   "outputs": [],
   "source": [
    "import matplotlib.pyplot as plt\n",
    "import numpy as np\n",
    "import sympy as sym\n",
    "import math\n",
    "sym.init_printing(use_unicode=True)"
   ]
  },
  {
   "cell_type": "code",
   "execution_count": null,
   "metadata": {},
   "outputs": [],
   "source": [
    "#definicion de simbolos\n",
    "x,y,z = sym.symbols('x y z')\n",
    "#constantes\n",
    "a1,a2,a3 = sym.var('a1,a2,a3')\n",
    "\n",
    "total_fi = 3 #numeros de funciones fi\n",
    "\n",
    "#función de prueba\n",
    "#u = a1*x*(x-1) + a1*x**2*(x-1) + a1*x**3*(x-1)\n",
    "u = a1*x*(x-1)*sym.sin(sym.pi*x) + a2*x**2*(x-1)*sym.sin(sym.pi*x) + a3*x**3*(x-1)*sym.sin(sym.pi*x)\n",
    "\n",
    "#derivadas\n",
    "du = sym.diff(u,x)\n",
    "d2u = sym.diff(du,x)\n",
    "d3u = sym.diff(d2u,x)\n",
    "d4u = sym.diff(d3u,x)\n",
    "\n",
    "u_0 = u.subs(x,0)\n",
    "u_1 = u.subs(x,1)\n",
    "du_0 = du.subs(x,0)\n",
    "du_1 = du.subs(x,1)\n",
    "\"\"\"\n",
    "print(\"U(x)=\\t{0}\".format(u),end=\"\\n\\n\")\n",
    "print(\"U'(x)=\\t{0}\".format(du),end=\"\\n\\n\")\n",
    "print(\"U''(x)=\\t{0}\".format(d2u),end=\"\\n\\n\")\n",
    "print(\"U'''(x)=\\t{0}\".format(d3u),end=\"\\n\\n\")\n",
    "print(\"U''''(x)=\\t{0}\".format(d4u),end=\"\\n\\n\")\n",
    "\"\"\"\n",
    "print(\"Comprobando condiciones de borde:\")\n",
    "print(\"u(0) = {0}\".format(u_0))\n",
    "print(\"u(1) = {0}\".format(u_1))\n",
    "print(\"u'(0) = {0}\".format(du_0))\n",
    "print(\"u'(1) = {0}\".format(du_1))\n",
    "\n",
    "if(u_0!=0 or u_1!=0 or u_0!=0 or du_1!=0):\n",
    "    print(\"La función de prueba no es valida\")\n",
    "else:\n",
    "    print(\"La función de prueba es valida\")\n"
   ]
  },
  {
   "cell_type": "markdown",
   "metadata": {},
   "source": [
    "# Resumen función U y derivadas con respecto a x\n",
    "\n",
    "$ \\mathbf{U(x) =}  a_{1} x \\left(x - 1\\right) \\sin{\\left(\\pi x \\right)} + a_{2} x^{2} \\left(x - 1\\right) \\sin{\\left(\\pi x \\right)} + a_{3} x^{3} \\left(x - 1\\right) \\sin{\\left(\\pi x \\right)}\n",
    "$\n",
    "<br><br>\n",
    "$\\textbf{U'(x) =} \\pi a_{1} x \\left(x - 1\\right) \\cos{\\left(\\pi x \\right)} + a_{1} x \\sin{\\left(\\pi x \\right)} + a_{1} \\left(x - 1\\right) \\sin{\\left(\\pi x \\right)} + \\pi a_{2} x^{2} \\left(x - 1\\right) \\cos{\\left(\\pi x \\right)} + a_{2} x^{2} \\sin{\\left(\\pi x \\right)} + 2 a_{2} x \\left(x - 1\\right) \\sin{\\left(\\pi x \\right)} + \\pi a_{3} x^{3} \\left(x - 1\\right) \\cos{\\left(\\pi x \\right)} + a_{3} x^{3} \\sin{\\left(\\pi x \\right)} + 3 a_{3} x^{2} \\left(x - 1\\right) \\sin{\\left(\\pi x \\right)}\n",
    "$\n",
    "<br><br>\n",
    "$\n",
    "\\mathbf{ U''(x) = } - \\pi^{2} a_{1} x \\left(x - 1\\right) \\sin{\\left(\\pi x \\right)} + 2 \\pi a_{1} x \\cos{\\left(\\pi x \\right)} + 2 \\pi a_{1} \\left(x - 1\\right) \\cos{\\left(\\pi x \\right)} + 2 a_{1} \\sin{\\left(\\pi x \\right)} - \\pi^{2} a_{2} x^{2} \\left(x - 1\\right) \\sin{\\left(\\pi x \\right)} + 2 \\pi a_{2} x^{2} \\cos{\\left(\\pi x \\right)} + 4 \\pi a_{2} x \\left(x - 1\\right) \\cos{\\left(\\pi x \\right)} + 4 a_{2} x \\sin{\\left(\\pi x \\right)} + 2 a_{2} \\left(x - 1\\right) \\sin{\\left(\\pi x \\right)} - \\pi^{2} a_{3} x^{3} \\left(x - 1\\right) \\sin{\\left(\\pi x \\right)} + 2 \\pi a_{3} x^{3} \\cos{\\left(\\pi x \\right)} + 6 \\pi a_{3} x^{2} \\left(x - 1\\right) \\cos{\\left(\\pi x \\right)} + 6 a_{3} x^{2} \\sin{\\left(\\pi x \\right)} + 6 a_{3} x \\left(x - 1\\right) \\sin{\\left(\\pi x \\right)}\n",
    "$\n",
    "<br><br>\n",
    "$\n",
    "\\mathbf{U^{(3)}(x) =} - \\pi^{3} a_{1} x \\left(x - 1\\right) \\cos{\\left(\\pi x \\right)} - 3 \\pi^{2} a_{1} x \\sin{\\left(\\pi x \\right)} - 3 \\pi^{2} a_{1} \\left(x - 1\\right) \\sin{\\left(\\pi x \\right)} + 6 \\pi a_{1} \\cos{\\left(\\pi x \\right)} - \\pi^{3} a_{2} x^{2} \\left(x - 1\\right) \\cos{\\left(\\pi x \\right)} - 3 \\pi^{2} a_{2} x^{2} \\sin{\\left(\\pi x \\right)} - 6 \\pi^{2} a_{2} x \\left(x - 1\\right) \\sin{\\left(\\pi x \\right)} + 12 \\pi a_{2} x \\cos{\\left(\\pi x \\right)} + 6 \\pi a_{2} \\left(x - 1\\right) \\cos{\\left(\\pi x \\right)} + 6 a_{2} \\sin{\\left(\\pi x \\right)} - \\pi^{3} a_{3} x^{3} \\left(x - 1\\right) \\cos{\\left(\\pi x \\right)} - 3 \\pi^{2} a_{3} x^{3} \\sin{\\left(\\pi x \\right)} - 9 \\pi^{2} a_{3} x^{2} \\left(x - 1\\right) \\sin{\\left(\\pi x \\right)} + 18 \\pi a_{3} x^{2} \\cos{\\left(\\pi x \\right)} + 18 \\pi a_{3} x \\left(x - 1\\right) \\cos{\\left(\\pi x \\right)} + 18 a_{3} x \\sin{\\left(\\pi x \\right)} + 6 a_{3} \\left(x - 1\\right) \\sin{\\left(\\pi x \\right)}\n",
    "$\n",
    "<br><br>\n",
    "$\n",
    "\\mathbf{U^{(4)}(x) =} \\pi^{4} a_{1} x \\left(x - 1\\right) \\sin{\\left(\\pi x \\right)} - 4 \\pi^{3} a_{1} x \\cos{\\left(\\pi x \\right)} - 4 \\pi^{3} a_{1} \\left(x - 1\\right) \\cos{\\left(\\pi x \\right)} - 12 \\pi^{2} a_{1} \\sin{\\left(\\pi x \\right)} + \\pi^{4} a_{2} x^{2} \\left(x - 1\\right) \\sin{\\left(\\pi x \\right)} - 4 \\pi^{3} a_{2} x^{2} \\cos{\\left(\\pi x \\right)} - 8 \\pi^{3} a_{2} x \\left(x - 1\\right) \\cos{\\left(\\pi x \\right)} - 24 \\pi^{2} a_{2} x \\sin{\\left(\\pi x \\right)} - 12 \\pi^{2} a_{2} \\left(x - 1\\right) \\sin{\\left(\\pi x \\right)} + 24 \\pi a_{2} \\cos{\\left(\\pi x \\right)} + \\pi^{4} a_{3} x^{3} \\left(x - 1\\right) \\sin{\\left(\\pi x \\right)} - 4 \\pi^{3} a_{3} x^{3} \\cos{\\left(\\pi x \\right)} - 12 \\pi^{3} a_{3} x^{2} \\left(x - 1\\right) \\cos{\\left(\\pi x \\right)} - 36 \\pi^{2} a_{3} x^{2} \\sin{\\left(\\pi x \\right)} - 36 \\pi^{2} a_{3} x \\left(x - 1\\right) \\sin{\\left(\\pi x \\right)} + 72 \\pi a_{3} x \\cos{\\left(\\pi x \\right)} + 24 \\pi a_{3} \\left(x - 1\\right) \\cos{\\left(\\pi x \\right)} + 24 a_{3} \\sin{\\left(\\pi x \\right)}\n",
    "$"
   ]
  },
  {
   "cell_type": "markdown",
   "metadata": {},
   "source": [
    "# Encontrando la función residuo R(x)"
   ]
  },
  {
   "cell_type": "code",
   "execution_count": null,
   "metadata": {},
   "outputs": [],
   "source": [
    "rx = d4u+u-1"
   ]
  },
  {
   "cell_type": "markdown",
   "metadata": {},
   "source": [
    "$$\n",
    "\\mathbf{R(x) =} \n",
    "a_{1} x \\left(x - 1\\right) \\sin{\\left(\\pi x \\right)} + \\pi^{4} a_{1} x \\left(x - 1\\right) \\sin{\\left(\\pi x \\right)} - 4 \\pi^{3} a_{1} x \\cos{\\left(\\pi x \\right)} - 4 \\pi^{3} a_{1} \\left(x - 1\\right) \\cos{\\left(\\pi x \\right)} - 12 \\pi^{2} a_{1} \\sin{\\left(\\pi x \\right)} + a_{2} x^{2} \\left(x - 1\\right) \\sin{\\left(\\pi x \\right)} + \\pi^{4} a_{2} x^{2} \\left(x - 1\\right) \\sin{\\left(\\pi x \\right)} - 4 \\pi^{3} a_{2} x^{2} \\cos{\\left(\\pi x \\right)} - 8 \\pi^{3} a_{2} x \\left(x - 1\\right) \\cos{\\left(\\pi x \\right)} - 24 \\pi^{2} a_{2} x \\sin{\\left(\\pi x \\right)} - 12 \\pi^{2} a_{2} \\left(x - 1\\right) \\sin{\\left(\\pi x \\right)} + 24 \\pi a_{2} \\cos{\\left(\\pi x \\right)} + a_{3} x^{3} \\left(x - 1\\right) \\sin{\\left(\\pi x \\right)} + \\pi^{4} a_{3} x^{3} \\left(x - 1\\right) \\sin{\\left(\\pi x \\right)} - 4 \\pi^{3} a_{3} x^{3} \\cos{\\left(\\pi x \\right)} - 12 \\pi^{3} a_{3} x^{2} \\left(x - 1\\right) \\cos{\\left(\\pi x \\right)} - 36 \\pi^{2} a_{3} x^{2} \\sin{\\left(\\pi x \\right)} - 36 \\pi^{2} a_{3} x \\left(x - 1\\right) \\sin{\\left(\\pi x \\right)} + 72 \\pi a_{3} x \\cos{\\left(\\pi x \\right)} + 24 \\pi a_{3} \\left(x - 1\\right) \\cos{\\left(\\pi x \\right)} + 24 a_{3} \\sin{\\left(\\pi x \\right)} - 1$$"
   ]
  },
  {
   "cell_type": "markdown",
   "metadata": {},
   "source": [
    "# Aplicando métodos de aproximación\n",
    "## 1- Colocación"
   ]
  },
  {
   "cell_type": "code",
   "execution_count": null,
   "metadata": {},
   "outputs": [],
   "source": [
    "%%time\n",
    "n_puntos = total_fi + 2\n",
    "#puntos en los que usaremos el metodo de colocación\n",
    "puntos = np.linspace(0,1,num=n_puntos)[1:-1]\n",
    "sistema = []\n",
    "for p in puntos:\n",
    "    sistema.append(rx.subs(x,p))\n",
    "A,b = sym.linear_eq_to_matrix(sistema,[a1,a2,a3])\n",
    "A = np.array(A).astype(np.float64)\n",
    "b = np.array(b).astype(np.float64)\n",
    "solution = np.linalg.solve(A,b)\n",
    "\n",
    "pairs = list(zip([a1,a2,a3],map(lambda x:x[0],solution.tolist())))\n",
    "final_function = u.subs(pairs)"
   ]
  },
  {
   "cell_type": "code",
   "execution_count": null,
   "metadata": {},
   "outputs": [],
   "source": [
    "print(final_function)"
   ]
  },
  {
   "cell_type": "code",
   "execution_count": null,
   "metadata": {},
   "outputs": [],
   "source": [
    "n = 50\n",
    "puntos_x = np.linspace(0,1,n)\n",
    "puntos_y = list(map(lambda val:final_function.subs(x,val),puntos_x))\n",
    "plt.plot(puntos_x,puntos_y)"
   ]
  },
  {
   "cell_type": "markdown",
   "metadata": {},
   "source": [
    "## 2- Subdominios"
   ]
  },
  {
   "cell_type": "code",
   "execution_count": null,
   "metadata": {},
   "outputs": [],
   "source": []
  },
  {
   "cell_type": "markdown",
   "metadata": {},
   "source": [
    "## 3- Mínimos cuadrados"
   ]
  },
  {
   "cell_type": "code",
   "execution_count": null,
   "metadata": {},
   "outputs": [],
   "source": [
    "%%time\n",
    "I=[]\n",
    "fi=[a1,a2,a3]\n",
    "i = 1\n",
    "for a in fi:\n",
    "    print(\"integral #{0}\".format(i))\n",
    "    I.append(sym.integrate(sym.simplify(rx*sym.diff(rx,a)),(x,0,1)))\n",
    "    i = i +1\n",
    "#A,b = sym.linear_eq_to_matrix(I,[a1,a2,a3])"
   ]
  },
  {
   "cell_type": "code",
   "execution_count": null,
   "metadata": {},
   "outputs": [],
   "source": [
    "%%time\n",
    "A,b = sym.linear_eq_to_matrix(I,[a1,a2,a3])\n",
    "result = sym.linsolve(I,fi)\n",
    "A = np.array(A).astype(np.float64)\n",
    "b = np.array(b).astype(np.float64)\n",
    "solution = np.linalg.solve(A,b)\n",
    "pairs = list(zip([a1,a2,a3],map(lambda x:x[0],solution.tolist())))\n",
    "final_function = u.subs(pairs)"
   ]
  },
  {
   "cell_type": "code",
   "execution_count": null,
   "metadata": {},
   "outputs": [],
   "source": [
    "print(final_function)"
   ]
  },
  {
   "cell_type": "code",
   "execution_count": null,
   "metadata": {},
   "outputs": [],
   "source": [
    "n = 50\n",
    "puntos_x = np.linspace(0,1,n)\n",
    "puntos_y = list(map(lambda val:final_function.subs(x,val),puntos_x))\n",
    "plt.plot(puntos_x,puntos_y)"
   ]
  },
  {
   "cell_type": "markdown",
   "metadata": {},
   "source": [
    "## 4- Momentos"
   ]
  },
  {
   "cell_type": "code",
   "execution_count": null,
   "metadata": {},
   "outputs": [],
   "source": []
  },
  {
   "cell_type": "markdown",
   "metadata": {},
   "source": [
    "## 5- Galerkin"
   ]
  },
  {
   "cell_type": "code",
   "execution_count": null,
   "metadata": {},
   "outputs": [],
   "source": []
  }
 ],
 "metadata": {
  "kernelspec": {
   "display_name": "sw_ing",
   "language": "python",
   "name": "sw_ing"
  },
  "language_info": {
   "codemirror_mode": {
    "name": "ipython",
    "version": 3
   },
   "file_extension": ".py",
   "mimetype": "text/x-python",
   "name": "python",
   "nbconvert_exporter": "python",
   "pygments_lexer": "ipython3",
   "version": "3.7.3"
  }
 },
 "nbformat": 4,
 "nbformat_minor": 2
}
